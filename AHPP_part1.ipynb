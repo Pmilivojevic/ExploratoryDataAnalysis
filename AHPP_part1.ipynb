{
  "nbformat": 4,
  "nbformat_minor": 0,
  "metadata": {
    "colab": {
      "provenance": [],
      "mount_file_id": "1IGWubq3EpXXLI9kyIi695L0LZPS9Vnm6",
      "authorship_tag": "ABX9TyO3HhVQa39pR9R4sGdCSk/3",
      "include_colab_link": true
    },
    "kernelspec": {
      "name": "python3",
      "display_name": "Python 3"
    },
    "language_info": {
      "name": "python"
    }
  },
  "cells": [
    {
      "cell_type": "markdown",
      "metadata": {
        "id": "view-in-github",
        "colab_type": "text"
      },
      "source": [
        "<a href=\"https://colab.research.google.com/github/Pmilivojevic/ExploratoryDataAnalysis/blob/main/AHPP_part1.ipynb\" target=\"_parent\"><img src=\"https://colab.research.google.com/assets/colab-badge.svg\" alt=\"Open In Colab\"/></a>"
      ]
    },
    {
      "cell_type": "code",
      "execution_count": null,
      "metadata": {
        "id": "hN5NwamlGUq_"
      },
      "outputs": [],
      "source": [
        "import pandas as pd\n",
        "import numpy as np\n",
        "import matplotlib.pyplot as plt\n",
        "import seaborn as sns\n",
        "\n",
        "pd.pandas.set_option('display.max_columns', None)"
      ]
    },
    {
      "cell_type": "code",
      "source": [
        "dataset = pd.read_csv('/content/drive/MyDrive/ColabNotebooks/ExploratoryDataAnalysis/datasets/train.csv')\n",
        "print(dataset.shape)"
      ],
      "metadata": {
        "colab": {
          "base_uri": "https://localhost:8080/"
        },
        "id": "MQ7AjJLnHxPZ",
        "outputId": "259c13fe-c6e6-4882-dcae-381644d03e86"
      },
      "execution_count": null,
      "outputs": [
        {
          "output_type": "stream",
          "name": "stdout",
          "text": [
            "(1460, 81)\n"
          ]
        }
      ]
    },
    {
      "cell_type": "markdown",
      "source": [
        "**Missing values feature**"
      ],
      "metadata": {
        "id": "Nxc72BdiY-46"
      }
    },
    {
      "cell_type": "code",
      "source": [
        "features_with_na = [\n",
        "    features for features in dataset.columns\n",
        "    if dataset[features].isnull().sum() > 1\n",
        "]\n",
        "\n",
        "for idx, feature in enumerate(features_with_na):\n",
        "  print(idx, feature, np.round(dataset[feature].isnull().mean(), 4), '% missing values')"
      ],
      "metadata": {
        "id": "IFePWoZVJ2_W"
      },
      "execution_count": null,
      "outputs": []
    },
    {
      "cell_type": "code",
      "source": [
        "for feature in features_with_na:\n",
        "  data = dataset.copy()\n",
        "\n",
        "  data[feature] = np.where(data[feature].isnull(), 1, 0)\n",
        "\n",
        "  data.groupby(feature)['SalePrice'].median().plot.bar()\n",
        "  plt.title(feature)\n",
        "  plt.show()"
      ],
      "metadata": {
        "id": "_j8bsmKmKDGc"
      },
      "execution_count": null,
      "outputs": []
    },
    {
      "cell_type": "markdown",
      "source": [
        "Numerical features"
      ],
      "metadata": {
        "id": "XGt-Lh7AZNrl"
      }
    },
    {
      "cell_type": "code",
      "source": [
        "numerical_features = [features for features in dataset.columns if dataset[features].dtypes != 'O']\n",
        "print(len(numerical_features))\n",
        "\n",
        "# dataset[numerical_features].head()"
      ],
      "metadata": {
        "id": "OsFO9GqoLxQj",
        "colab": {
          "base_uri": "https://localhost:8080/"
        },
        "outputId": "27d78384-14f2-4de2-feb2-2b81d33e0bb5"
      },
      "execution_count": null,
      "outputs": [
        {
          "output_type": "stream",
          "name": "stdout",
          "text": [
            "38\n"
          ]
        }
      ]
    },
    {
      "cell_type": "markdown",
      "source": [
        "Temporal features"
      ],
      "metadata": {
        "id": "ce_Y5fYGZUvw"
      }
    },
    {
      "cell_type": "code",
      "source": [
        "temporal_features = [\n",
        "    feature for feature in numerical_features\n",
        "    if 'Yr' in feature or 'Year' in feature\n",
        "]"
      ],
      "metadata": {
        "id": "Vf62os2OS8XH"
      },
      "execution_count": null,
      "outputs": []
    },
    {
      "cell_type": "code",
      "source": [
        "for feature in temporal_features:\n",
        "  print(feature, dataset[feature].unique())"
      ],
      "metadata": {
        "id": "eGOCrRJaUZ50"
      },
      "execution_count": null,
      "outputs": []
    },
    {
      "cell_type": "code",
      "source": [
        "for feature in temporal_features:\n",
        "  dataset.groupby(feature)['SalePrice'].median().plot()\n",
        "  plt.xlabel(feature)\n",
        "  plt.ylabel('SalePrice')\n",
        "  plt.title(f'House price vs {feature}')\n",
        "  plt.show()"
      ],
      "metadata": {
        "id": "iTzFZcNEVxh9"
      },
      "execution_count": null,
      "outputs": []
    },
    {
      "cell_type": "code",
      "source": [
        "for feature in temporal_features:\n",
        "  if feature != temporal_features[-1]:\n",
        "    data = dataset.copy()\n",
        "\n",
        "    data[feature] = data[temporal_features[-1]] - data[feature]\n",
        "\n",
        "    plt.scatter(data[feature], data['SalePrice'])\n",
        "    plt.xlabel(feature)\n",
        "    plt.ylabel('SalePrice')\n",
        "    plt.show()"
      ],
      "metadata": {
        "id": "V5ShQYKQXniZ"
      },
      "execution_count": null,
      "outputs": []
    },
    {
      "cell_type": "markdown",
      "source": [
        "**Discrete features**"
      ],
      "metadata": {
        "id": "mBwlQ5-FVeSM"
      }
    },
    {
      "cell_type": "code",
      "source": [
        "discrete_features = [feature for feature in numerical_features if len(dataset[feature].unique()) < 25 and feature not in temporal_features+['Id']]\n",
        "print(len(discrete_features))\n",
        "dataset[discrete_features].head()"
      ],
      "metadata": {
        "id": "CU-LbguQayy9"
      },
      "execution_count": null,
      "outputs": []
    },
    {
      "cell_type": "code",
      "source": [
        "for feature in discrete_features:\n",
        "    data=dataset.copy()\n",
        "    data.groupby(feature)['SalePrice'].median().plot.bar()\n",
        "    plt.xlabel(feature)\n",
        "    plt.ylabel('SalePrice')\n",
        "    plt.title(feature)\n",
        "    plt.show()"
      ],
      "metadata": {
        "id": "wWX0RzF4A3iW"
      },
      "execution_count": null,
      "outputs": []
    },
    {
      "cell_type": "markdown",
      "source": [
        "**Continuous features**"
      ],
      "metadata": {
        "id": "lCtxJclIU_Hy"
      }
    },
    {
      "cell_type": "code",
      "source": [
        "continuous_features = [feature for feature in numerical_features if feature not in discrete_features+temporal_features+['Id']]\n",
        "print(len(continuous_features))\n",
        "dataset[continuous_features].head()"
      ],
      "metadata": {
        "id": "Ttkw5TbacOl9"
      },
      "execution_count": null,
      "outputs": []
    },
    {
      "cell_type": "code",
      "source": [
        "for feature in continuous_features:\n",
        "    data=dataset.copy()\n",
        "    data[feature].hist(bins=25)\n",
        "    plt.xlabel(feature)\n",
        "    plt.ylabel(\"Count\")\n",
        "    plt.title(feature)\n",
        "    plt.show()"
      ],
      "metadata": {
        "id": "Hk78asBIef5Z"
      },
      "execution_count": null,
      "outputs": []
    },
    {
      "cell_type": "code",
      "source": [
        "for feature in continuous_features:\n",
        "  data = dataset.copy()\n",
        "\n",
        "  if 0 not in data[feature].unique():\n",
        "    data[feature] = np.log(data[feature])\n",
        "    data['SalePrice'] = np.log(data['SalePrice'])\n",
        "    plt.scatter(data[feature], data['SalePrice'])\n",
        "    plt.xlabel(feature)\n",
        "    plt.ylabel('SalePrice')\n",
        "    plt.title(feature)\n",
        "    plt.show()\n",
        "\n",
        "    # data[feature].hist(bins=25)\n",
        "    # plt.xlabel(feature)\n",
        "    # plt.ylabel(\"Count\")\n",
        "    # plt.title(f'Log {feature}')\n",
        "    # plt.show()\n",
        "\n",
        "    # dataset[feature].hist(bins=25)\n",
        "    # plt.xlabel(feature)\n",
        "    # plt.ylabel(\"Count\")\n",
        "    # plt.title(feature)\n",
        "    # plt.show()"
      ],
      "metadata": {
        "id": "vnY0TgpyBtRw"
      },
      "execution_count": null,
      "outputs": []
    },
    {
      "cell_type": "code",
      "source": [
        "for feature in continuous_features:\n",
        "  data = dataset.copy()\n",
        "\n",
        "  if 0 not in data[feature].unique():\n",
        "    data[feature] = np.log(data[feature])\n",
        "    data.boxplot(column=feature)\n",
        "    plt.ylabel(feature)\n",
        "    plt.title(feature)\n",
        "    plt.show()"
      ],
      "metadata": {
        "id": "bBD3Ma4qQMaE"
      },
      "execution_count": null,
      "outputs": []
    },
    {
      "cell_type": "markdown",
      "source": [
        "**Categorical features**"
      ],
      "metadata": {
        "id": "fMd4N7ekV1dp"
      }
    },
    {
      "cell_type": "code",
      "source": [
        "categorical_features = [feature for feature in dataset.columns if dataset[feature].dtype == 'O']\n",
        "print(len(categorical_features))\n",
        "dataset[categorical_features].head()"
      ],
      "metadata": {
        "id": "ghF_RYbMTp6M"
      },
      "execution_count": null,
      "outputs": []
    },
    {
      "cell_type": "code",
      "source": [
        "for feature in categorical_features:\n",
        "  print(f'The feature is {feature} and number of categosies are: {len(dataset[feature].unique())}')"
      ],
      "metadata": {
        "id": "2vNHYECpXKtw"
      },
      "execution_count": null,
      "outputs": []
    },
    {
      "cell_type": "code",
      "source": [
        "for feature in categorical_features:\n",
        "  data = dataset.copy()\n",
        "\n",
        "  data.groupby(feature)['SalePrice'].median().plot.bar()\n",
        "  # plt.xlabel(feature)\n",
        "  plt.ylabel('Saleprice')\n",
        "  plt.title(feature)\n",
        "  plt.show()"
      ],
      "metadata": {
        "id": "lSdFyj2ZZM5C"
      },
      "execution_count": null,
      "outputs": []
    },
    {
      "cell_type": "code",
      "source": [
        "num_features=['LotFrontage', 'LotArea', '1stFlrSF', 'GrLivArea', 'SalePrice']"
      ],
      "metadata": {
        "id": "ug2H-VgTa1Fe"
      },
      "execution_count": null,
      "outputs": []
    },
    {
      "cell_type": "code",
      "source": [
        "if num_features[1] in continuous_features:\n",
        "  print('True')"
      ],
      "metadata": {
        "colab": {
          "base_uri": "https://localhost:8080/"
        },
        "id": "QwjhY0CSaT1O",
        "outputId": "ed171ff5-fc1b-43b5-f808-36042a154f9a"
      },
      "execution_count": null,
      "outputs": [
        {
          "output_type": "stream",
          "name": "stdout",
          "text": [
            "True\n"
          ]
        }
      ]
    },
    {
      "cell_type": "code",
      "source": [
        "numerical_features"
      ],
      "metadata": {
        "colab": {
          "base_uri": "https://localhost:8080/"
        },
        "id": "-HTWkrW8abHj",
        "outputId": "1d666990-b2b9-4a8c-b50a-7f0610d1e8d4"
      },
      "execution_count": null,
      "outputs": [
        {
          "output_type": "execute_result",
          "data": {
            "text/plain": [
              "['Id',\n",
              " 'MSSubClass',\n",
              " 'LotFrontage',\n",
              " 'LotArea',\n",
              " 'OverallQual',\n",
              " 'OverallCond',\n",
              " 'YearBuilt',\n",
              " 'YearRemodAdd',\n",
              " 'MasVnrArea',\n",
              " 'BsmtFinSF1',\n",
              " 'BsmtFinSF2',\n",
              " 'BsmtUnfSF',\n",
              " 'TotalBsmtSF',\n",
              " '1stFlrSF',\n",
              " '2ndFlrSF',\n",
              " 'LowQualFinSF',\n",
              " 'GrLivArea',\n",
              " 'BsmtFullBath',\n",
              " 'BsmtHalfBath',\n",
              " 'FullBath',\n",
              " 'HalfBath',\n",
              " 'BedroomAbvGr',\n",
              " 'KitchenAbvGr',\n",
              " 'TotRmsAbvGrd',\n",
              " 'Fireplaces',\n",
              " 'GarageYrBlt',\n",
              " 'GarageCars',\n",
              " 'GarageArea',\n",
              " 'WoodDeckSF',\n",
              " 'OpenPorchSF',\n",
              " 'EnclosedPorch',\n",
              " '3SsnPorch',\n",
              " 'ScreenPorch',\n",
              " 'PoolArea',\n",
              " 'MiscVal',\n",
              " 'MoSold',\n",
              " 'YrSold',\n",
              " 'SalePrice']"
            ]
          },
          "metadata": {},
          "execution_count": 22
        }
      ]
    },
    {
      "cell_type": "code",
      "source": [],
      "metadata": {
        "id": "cQn5sWCRah_Z"
      },
      "execution_count": null,
      "outputs": []
    }
  ]
}